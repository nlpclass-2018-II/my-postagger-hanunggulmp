{
 "cells": [
  {
   "cell_type": "code",
   "execution_count": 1,
   "metadata": {
    "collapsed": true
   },
   "outputs": [],
   "source": [
    "import nltk\n",
    "\n",
    "train = open('datatrain.txt','w')\n",
    "sentences = open('sentences.txt').read().lower()\n",
    "token = nltk.word_tokenize(sentences)\n",
    "totalWord={}\n",
    "\n",
    "\n",
    "def dataread(): #create the POSTagging list\n",
    "    dict = {}\n",
    "    tahap = 0\n",
    "    dict['s.t.r'] ={}\n",
    "    dict['s.t.r']['start'] = tahap\n",
    "    with open('input_text.txt') as data:\n",
    "        while tahap<=500:\n",
    "            sent = data.readline()\n",
    "            sent = sent.lower()\n",
    "            if len(sent.strip()) == 0:\n",
    "                continue\n",
    "            if '#eot#' in sent or tahap == 101:\n",
    "                break\n",
    "            sentence = sent\n",
    "            if ('#' in sent):\n",
    "                tahap +=1\n",
    "                continue\n",
    "            sentence = sentence.split(\"\\t\")\n",
    "            if (sentence[2]==\"_\"):\n",
    "                tag = sentence[3]\n",
    "            else:\n",
    "                tag = sentence[2]\n",
    "            if (sentence[1] in dict):\n",
    "                if (tag in dict[sentence[1]]):\n",
    "                    dict[sentence[1]][tag] +=1\n",
    "                else:\n",
    "                    dict[sentence[1]][tag] = 1\n",
    "            else:\n",
    "                dict[sentence[1]] ={}\n",
    "                dict[sentence[1]][tag] = 1\n",
    "        dict['s.t.r']['start'] = tahap\n",
    "    return dict"
   ]
  },
  {
   "cell_type": "code",
   "execution_count": 3,
   "metadata": {},
   "outputs": [],
   "source": [
    "def datawrite(train): #USE WHOLE SENTENCE as Data Train\n",
    "    tahap = 0\n",
    "    loop = True\n",
    "    with open('input_text.txt') as data:\n",
    "        while tahap <=500:\n",
    "            sent = data.readline()\n",
    "            sent = sent.lower()\n",
    "            if len(sent.strip()) == 0:\n",
    "                continue\n",
    "            if tahap == 4477:\n",
    "                break\n",
    "                loop == False\n",
    "            sentence = sent\n",
    "            if ('# sent_id' in sent):\n",
    "                sent = data.readline()\n",
    "                sentence = sent.split(\"text = \")[1]\n",
    "                train.write('s.t.r '+sentence.lower())\n",
    "                tahap +=1\n",
    "\n",
    "\n",
    "datawrite(train)\n",
    "newfile = open('datatrain.txt').read()\n",
    "newfile = newfile.replace(\"'\",\" ' \").replace('2012.','2012 .')\n",
    "tokens = nltk.word_tokenize(newfile)"
   ]
  },
  {
   "cell_type": "code",
   "execution_count": 4,
   "metadata": {},
   "outputs": [],
   "source": [
    "def count(word): #Count the amount of each occurrence words\n",
    "    countword ={}\n",
    "    num = 0\n",
    "    for i in tokens:\n",
    "        if (i == '``') or (i == \"''\"):\n",
    "            i = '\"'\n",
    "        if i == word:\n",
    "            if word in countword:\n",
    "                countword[word] += 1\n",
    "                num +=1\n",
    "            else:\n",
    "                countword[word] = 1\n",
    "                num =+1\n",
    "        else:\n",
    "            pass\n",
    "    return num"
   ]
  },
  {
   "cell_type": "code",
   "execution_count": 5,
   "metadata": {},
   "outputs": [],
   "source": [
    "def emiProb(dict):\n",
    "    prob = {}\n",
    "    for k,v in dict.items():\n",
    "        for k2, v2 in dict[k].items():\n",
    "            if k not in prob:\n",
    "                prob[k] ={}\n",
    "                if k  == 's.t.r':\n",
    "                    prob[k] = {}\n",
    "                    prob[k]['start'] =1\n",
    "                if (count(k) == 0):\n",
    "                    #BONUS, smoothing is did in here\n",
    "                    prob[k][k2] = 1\n",
    "                else:\n",
    "                    #print('kata',k,'tag',k2,dict[k][k2])\n",
    "                    #print('huruf',k,'ada',count(k))\n",
    "                    prob[k][k2] = dict[k][k2]/count(k)\n",
    "            else:\n",
    "                if k2 not in prob[k]:\n",
    "                    prob[k][k2] = dict[k][k2]/count(k)\n",
    "    return prob\n",
    "\n",
    "def countTag(dict,tag): #Create a POSTagger based on highest emission probability table.\n",
    "    tagCount = {}\n",
    "    num = 0\n",
    "    for word in tokens:\n",
    "        if (word == '``') or (word == \"''\"):\n",
    "            word = '\"'\n",
    "        if word not in dict:\n",
    "            continue\n",
    "        for a,b in dict[word].items():\n",
    "            if a == tag:\n",
    "                if a not in tagCount:\n",
    "                    tagCount[a] =1\n",
    "                    num +=1\n",
    "                else:\n",
    "                    tagCount[a] +=1\n",
    "                    num +=1\n",
    "            else:\n",
    "                pass\n",
    "    return num\n",
    "\n",
    "\n",
    "def postagg(dict,emiTag): #Create a POSTagger based on highest emission probability table.\n",
    "    for i, j in emiTag.items():\n",
    "        if len(j) > 1:\n",
    "            print('The Ambiguity words',i,'found words =',len(j))\n",
    "    hiEmi = {}\n",
    "    for k,v in dict.items():\n",
    "        for k2, v2 in dict[k].items():\n",
    "            if k not in hiEmi:\n",
    "                hiEmi[k] ={}\n",
    "                hiEmi[k][k2] = emiTag[k][k2]\n",
    "            else:\n",
    "                if len(emiTag[k]) >1:\n",
    "                    hiEmi[k]={}\n",
    "                    t = max(emiTag[k])\n",
    "                    hiEmi[k][t] = emiTag[k][t]\n",
    "    return hiEmi\n",
    "\n",
    "def transition(dict): #Create a tag transition probability table (bigram model, only record one previous tag)\n",
    "    bigramCount = {}\n",
    "    temp = {}\n",
    "    length = len(tokens)\n",
    "    for i in range(length-1):\n",
    "        word1 = tokens[i]\n",
    "        word2 = tokens[i+1]\n",
    "        if word1 == '``' or word1 == \"''\":\n",
    "            word1 = '\"'\n",
    "        if word2 == '``' or word2 == \"''\":\n",
    "            word2 = '\"'\n",
    "        if word1 == 'm.':\n",
    "            word1 = 'm'\n",
    "        if word2 == 'm.':\n",
    "            word2 = 'm'\n",
    "        if word1 == 'pepper':\n",
    "            word1 = \"pepper's\"\n",
    "        if word2 == 'pepper':\n",
    "            word2 = 'pepper\\'s'\n",
    "        if word1 not in dict or word2 not in dict:\n",
    "            continue\n",
    "        if ('&') in word1 or ('&') in word2:\n",
    "            continue\n",
    "        if word1 in dict:\n",
    "            for j,k in dict[word1].items():\n",
    "                if j not in bigramCount:\n",
    "                    for m,n in dict[word2].items():\n",
    "                        bigramCount[j] = {}\n",
    "                        temp[j] = {}\n",
    "                        bigramCount[j][m] = 1\n",
    "                        temp[j][m] =1\n",
    "                else:\n",
    "                    for m,n in dict[word2].items():\n",
    "                        if m in bigramCount[j]:\n",
    "                            temp[j][m] +=1\n",
    "                            bigramCount[j][m] = temp[j][m]/(countTag(dict,j))\n",
    "                        else:\n",
    "                            bigramCount[j][m]=1\n",
    "                            temp[j][m]=1\n",
    "\n",
    "    return bigramCount\n",
    "\n",
    "\n",
    "def viterbi(emi, tra, datatest):\n",
    "    temp = 1\n",
    "    result = 0\n",
    "    vit ={}\n",
    "    taglist = []\n",
    "    test = nltk.word_tokenize(datatest)\n",
    "    for i in range(len(test)):\n",
    "        if test[i] in emi:\n",
    "            for a,b in emi[test[i]].items():\n",
    "                if b >1.0:\n",
    "                    b =1.0\n",
    "                tag = a\n",
    "                taglist.append(a)\n",
    "                vit[test[i]]={}\n",
    "                vit[test[i]] = a\n",
    "        elif test[i] not in emi: #Smoothing Unknown word into Noun tag\n",
    "            vit[test[i]] ={}\n",
    "            vit[test[i]]['noun']=1.0\n",
    "            for c,d in vit[test[i]].items():\n",
    "                tag = c\n",
    "                taglist.append(c)\n",
    "\n",
    "        if tag in tra:\n",
    "            if tag == 'start':\n",
    "                f = 1\n",
    "            else:\n",
    "                for x,y in tra[tag].items():\n",
    "                    ptag = taglist[i-1]\n",
    "                    f = tra[ptag][tag]\n",
    "\n",
    "        temp = temp*f*b\n",
    "        #print('tem',temp)\n",
    "    result = temp\n",
    "    result = result*100 # the result in Percent\n",
    "    hasil = result\n",
    "    return hasil,'%'"
   ]
  },
  {
   "cell_type": "code",
   "execution_count": null,
   "metadata": {},
   "outputs": [],
   "source": [
    "listTag = dataread()\n"
   ]
  },
  {
   "cell_type": "code",
   "execution_count": 24,
   "metadata": {},
   "outputs": [],
   "source": [
    "d1 = 's.t.r desa saya terletak di kecamatan buahbatu.' #DataTEST\n",
    "d2 = 's.t.r dia kehabisa pasukan untuk makan.'\n",
    "transTab = transition(listTag)\n",
    "emission_probability = emiProb(listTag)\n",
    "highestProb = postagg(listTag,emission_probability)\n",
    "\n",
    "vite = viterbi(highestProb,transTab,d1)\n",
    "vite2 =viterbi(highestProb,transTab,d2)"
   ]
  },
  {
   "cell_type": "code",
   "execution_count": 9,
   "metadata": {},
   "outputs": [
    {
     "name": "stdout",
     "output_type": "stream",
     "text": [
      "Probability of a word labeled with a tag (emission probability)\n {'s.t.r': {'start': 0.10390946502057613}, 'sembungan': {'propn': 0.5}, 'adalah': {'aux': 0.06395348837209303}, 'sebuah': {'det': 0.07575757575757576}, 'desa': {'noun': 0.0625}, 'yang': {'pron': 0.04195804195804196}, 'terletak': {'verb': 0.05263157894736842}, 'di': {'adp': 0.06222222222222222}, 'kecamatan': {'noun': 0.1111111111111111, 'propn': 0.027777777777777776}, 'kejajar': {'propn': 0.5}, ',': {'punct': 0.05204081632653061}, 'kabupaten': {'noun': 0.04, 'propn': 0.08}, 'wonosobo': {'propn': 0.5}, 'jawa': {'propn': 0.2}, 'tengah': {'propn': 0.07692307692307693}, 'indonesia': {'propn': 0.08433734939759036}, '.': {'punct': 0.06338028169014084}, 'serangan': {'noun': 0.25}, 'pengayauan': {'noun': 0.5}, 'biasanya': {'adv': 0.14285714285714285}, 'terjadi': {'verb': 0.08333333333333333}, 'ladang': {'noun': 0.5}, 'atau': {'cconj': 0.10909090909090909}, 'dengan': {'adp': 0.03888888888888889}, 'membakar': {'verb': 0.25}, 'rumah': {'noun': 0.1111111111111111}, 'dan': {'cconj': 0.048879837067209775}, 'memenggal': {'verb': 0.5}, 'semua': {'det': 0.15384615384615385}, 'penghuninya': {'noun': 0.5}, 'ketika': {'sconj': 0.1111111111111111}, 'mereka': {'pron': 0.05063291139240506}, 'melarikan': {'verb': 0.3333333333333333}, 'diri': {'noun': 0.125}, 'perkembangan': {'noun': 0.5}, 'ini': {'det': 0.058823529411764705}, 'diikuti': {'verb': 0.16666666666666666}, 'oleh': {'adp': 0.05426356589147287}, 'helm': {'noun': 0.5}, 'brodie': {'propn': 0.5}, 'dipakai': {'verb': 0.125}, 'tentara': {'noun': 0.125}, 'imperium': {'propn': 0.25}, 'britania': {'propn': 0.5}, 'as': {'propn': 0.25}, 'pada': {'adp': 0.03317535545023697}, 'tahun': {'noun': 0.0364963503649635}, '1916': {'num': 0.25}, 'stahlhelm': {'propn': 0.5}, 'jerman': {'propn': 0.06666666666666667}, 'perbaikan': {'noun': 0.5}, 'desain': {'noun': 0.25}, 'masih': {'adv': 0.1}, 'sampai': {'adp': 0.09523809523809523}, 'sekarang': {'noun': 0.05}, 'dari': {'adp': 0.047619047619047616}, 'jarak': {'noun': 0.5}, 'dekat': {'adj': 0.5}, 'dua': {'num': 0.1111111111111111}, 'kapal': {'noun': 0.5}, 'perusak': {'noun': 0.5}, 'sterett': {'propn': 0.5}, 'o': {'propn': 0.5}, \"'\": {'punct': 0.18571428571428572}, 'bannon': {'propn': 0.5}, 'menembakkan': {'verb': 0.5}, 'beberapa': {'det': 0.0967741935483871}, 'kali': {'noun': 0.125}, 'salvo': {'noun': 0.5}, 'ke': {'adp': 0.07547169811320754}, 'bangunan': {'noun': 0.375}, 'atas': {'adp': 0.038461538461538464}, 'hiei': {'propn': 0.5}, 'sebelum': {'sconj': 0.1111111111111111, 'adp': 0.1111111111111111}, 'dalam': {'adp': 0.03076923076923077}, 'kegelapan': {'noun': 0.5}, 'keduanya': {'noun': 0.5}, 'mungkin': {'adv': 0.125}, 'sempat': {'adv': 0.5}, 'menyarangkan': {'verb': 0.5}, 'satu': {'num': 0.03773584905660377, 'det': 0.03773584905660377}, 'buah': {'noun': 0.25}, 'torpedo': {'noun': 0.5}, 'bagian': {'noun': 0.1111111111111111}, 'lambung': {'noun': 0.5}, 'hingga': {'adp': 0.045454545454545456}, 'makin': {'adv': 0.5}, 'memperparah': {'verb': 0.5}, 'kerusakan': {'noun': 0.25}, 'angka': {'propn': 0.5}, 'harapan': {'noun': 0.25, 'propn': 0.25}, 'hidup': {'noun': 0.125, 'verb': 0.125}, '73': {'num': 0.5}, '4': {'num': 0.1}, 'yakni': {'adp': 0.16666666666666666}, 'bawah': {'noun': 0.08333333333333333}, 'rerata': {'noun': 0.5}, 'uni': {'propn': 0.16666666666666666}, 'eropa': {'propn': 0.16666666666666666}, 'pasukan': {'propn': 0.125, 'noun': 0.125}, 'mongol': {'propn': 0.5}, 'tidak': {'adv': 0.012658227848101266, 'part': 0.0379746835443038}, 'tahu': {'verb': 0.5}, 'apa': {'noun': 0.10526315789473684}, 'harus': {'adv': 0.0625}, 'perbuat': {'verb': 0.5}, 'itu': {'det': 0.024390243902439025, 'noun': 0.024390243902439025}, 'disiasati': {'verb': 0.5}, 'raden': {'propn': 0.5}, 'wijaya': {'propn': 0.25}, 'untuk': {'adp': 0.045112781954887216}, 'membantunya': {'verb': 0.5}, 'memberontak': {'verb': 0.5}, 'melawan': {'adp': 0.08333333333333333}, 'kerajaan': {'propn': 0.05}, 'kediri': {'propn': 0.5}, 'krogh': {'propn': 0.5}, 'juga': {'adv': 0.07246376811594203}, 'pertama': {'adj': 0.05555555555555555, 'num': 0.05555555555555555}, 'membuat': {'verb': 0.14285714285714285}, 'studi': {'noun': 0.5}, 'perbandingan': {'noun': 0.5}, 'hewan': {'noun': 0.16666666666666666}, 'lagu': {'propn': 0.034482758620689655, 'noun': 0.1724137931034483}, 'kemudian': {'adv': 0.07142857142857142}, 'ditampilkan': {'verb': 0.5}, 'sebagai': {'adp': 0.06896551724137931}, 'utama': {'adj': 0.08333333333333333}, 'rilisan': {'noun': 0.5}, 'ep': {'propn': 0.5}, '(': {'punct': 0.038461538461538464}, 'extended': {'propn': 0.5}, 'play': {'propn': 0.16666666666666666}, ')': {'punct': 0.0380952380952381}, 'moshi': {'propn': 0.5}, 'harajuku': {'propn': 0.5}, 'album': {'noun': 0.21875}, '\"': {'punct': 0.09316770186335403}, 'pamyu': {'propn': 0.5}, 'revolution': {'propn': 0.5}, 'maka': {'sconj': 0.1}, 'dimulailah': {'verb': 0.5}, 'suatu': {'det': 0.125}, 'gerakan': {'noun': 0.25}, 'bertujuan': {'verb': 0.5}, 'membentuk': {'verb': 0.16666666666666666}, 'kelompok': {'noun': 0.16666666666666666}, 'pendidikan': {'noun': 0.07692307692307693, 'propn': 0.07692307692307693}, 'cikal': {'noun': 0.5}, 'bakal': {'noun': 0.25}, 'lembaga': {'propn': 0.25}, 'dirintis': {'verb': 0.5}, 'ulama': {'noun': 0.25}, 'terdahulu': {'adj': 0.5}, 'antaranya': {'adp': 0.125}, 'almarhum': {'noun': 0.5}, 'bapak': {'propn': 0.25}, 'm': {'propn': 1.0}, 'basith': {'propn': 0.5}, 'kegiatan': {'noun': 0.1}, 'belajar': {'noun': 0.125}, 'mengajarnya': {'verb': 0.5}, 'bermula': {'verb': 0.5}, 'musholla': {'propn': 0.5}, 'taqwa': {'propn': 0.5}, 'muaradua': {'propn': 0.5}, 'sejak': {'adp': 0.03333333333333333}, 'pengujung': {'noun': 0.5}, '70': {'num': 0.5}, '-': {'punct': 0.04868913857677903}, 'an': {'num': 0.1875}, 'demikian': {'pron': 0.1}, 'bagi': {'adp': 0.125}, 'sebagian': {'det': 0.05555555555555555}, 'besar': {'adj': 0.02702702702702703, 'propn': 0.02702702702702703}, 'kalangan': {'noun': 0.5}, 'masyarakat': {'noun': 0.1}, 'menganggap': {'verb': 0.25}, 'bahwa': {'sconj': 0.02857142857142857}, 'pemerintahan': {'noun': 0.09090909090909091}, 'amerika': {'propn': 0.038461538461538464}, 'serikat': {'propn': 0.14285714285714285}, 'terlalu': {'adv': 0.1}, 'birokratis': {'adj': 0.5}, 'aliran': {'noun': 0.5}, 'memiliki': {'verb': 0.05172413793103448}, 'ajaran': {'noun': 0.16666666666666666}, 'bervariasi': {'verb': 0.5}, 'mengenai': {'punct': 0.2}, 'kristologi': {'propn': 0.5}, 'yesus': {'propn': 0.16666666666666666}, ':': {'punct': 0.021739130434782608}, 'doketisme': {'noun': 0.5}, 'merupakan': {'verb': 0.06060606060606061}, 'salah': {'adj': 0.02564102564102564, 'det': 0.05128205128205128}, 'gnostisisme': {'propn': 0.5}, 'ada': {'verb': 0.13513513513513514}, 'saat': {'noun': 0.022727272727272728}, 'santa': {'propn': 0.5}, 'fe': {'propn': 0.5}, 'kotamadya': {'noun': 0.25}, 'vega': {'propn': 0.5}, 'de': {'propn': 0.16666666666666666}, 'granada': {'propn': 0.5}, 'spanyol': {'propn': 0.5}, 'dialiri': {'verb': 0.5}, 'sungai': {'propn': 0.125}, 'genil': {'propn': 0.5}, 'didesain': {'verb': 0.5}, 'serang': {'verb': 0.5}, 'berkecapatan': {'verb': 0.5}, 'tinggi': {'adj': 0.09523809523809523}, 'mencapai': {'verb': 0.14285714285714285}, 'badan': {'noun': 0.25}, 'dibuat': {'verb': 0.16666666666666666}, 'aluminium': {'propn': 0.5}, 'sehingga': {'adp': 0.05555555555555555}, 'bisa': {'adv': 0.1}, 'lebih': {'adv': 0.045454545454545456}, 'ringan': {'adj': 0.5}, 'selain': {'adp': 0.2}, 'kecepatan': {'noun': 0.18181818181818182}, 'dilengkapi': {'verb': 0.25}, 'mesin': {'noun': 0.25}, 'gas': {'noun': 0.5}, 'turbin': {'noun': 0.5}, 'general': {'propn': 0.5}, 'electric': {'propn': 0.5}, 'lm': {'propn': 0.5}, '1500': {'num': 0.5}, '2': {'num': 0.0625}, 'diesel': {'noun': 0.5}, 'rendah': {'adj': 0.16666666666666666}, 'partai': {'propn': 0.08333333333333333}, 'didirikan': {'verb': 0.5}, 'bulan': {'propn': 0.037037037037037035, 'noun': 0.07407407407407407}, 'desember': {'propn': 0.08333333333333333}, '1945': {'num': 0.25}, 'purwakarta': {'propn': 0.5}, 'keterangan': {'noun': 0.5}, 'kejatuhan': {'noun': 0.5}, 'yerusalem': {'propn': 0.25, 'noun': 0.25}, 'berbeda': {'verb': 0.25}, 'kota': {'noun': 0.07692307692307693}, 'lain': {'adj': 0.03636363636363636}, 'maupun': {'cconj': 0.3333333333333333}, 'gagalnya': {'noun': 0.5}, 'sanherib': {'noun': 0.5}, 'merebut': {'verb': 0.2857142857142857}, 'bang': {'propn': 0.5}, 'yong': {'propn': 0.5}, 'guk': {'propn': 0.5}, 'berkomentar': {'verb': 0.5}, 'tujuan': {'noun': 0.125}, 'saya': {'pron': 0.16666666666666666}, 'awal': {'adj': 0.09090909090909091}, 'menjadi': {'verb': 0.024691358024691357}, 'penyanyi': {'noun': 0.5}, 'k': {'propn': 0.5}, 'pop': {'propn': 0.125}, 'lambda': {'propn': 0.5}, 'organisasi': {'noun': 0.5}, 'sejenis': {'noun': 0.5}, 'lainnya': {'adj': 0.1111111111111111}, 'bermunculan': {'verb': 0.5}, 'akhir': {'noun': 0.08333333333333333}, '1980': {'num': 0.25}, '1990': {'num': 0.16666666666666666}, 'letaknya': {'noun': 0.25}, 'utara': {'noun': 0.14285714285714285}, 'ia': {'pron': 0.05555555555555555}, 'lakukan': {'verb': 0.5}, 'mengapa': {'noun': 0.05263157894736842}, 'melakukannya': {'verb': 0.16666666666666666}, '?': {'punct': 0.029197080291970802}, 'soa': {'propn': 0.5}, 'sahertian': {'propn': 0.5}, 'tetelepta': {'propn': 0.5}, 'polnaya': {'propn': 0.5}, 'wattimury': {'propn': 0.5}, 'latuihamallo': {'propn': 0.5}, 'aponno': {'propn': 0.5}, 'apakah': {'noun': 0.041666666666666664}, 'gelasnya': {'noun': 0.5}, 'setengah': {'adj': 0.3333333333333333}, 'kosong': {'adj': 0.5}, 'penuh': {'adj': 0.5}, 'itulah': {'det': 0.16666666666666666}, 'sekilas': {'noun': 0.5}, 'wajah': {'noun': 0.25}, '/': {'sym': 0.13333333333333333}, 'cermin': {'noun': 0.5}, 'mundu': {'propn': 0.5}, 'bagaimana': {'adv': 0.08333333333333333}, 'kita': {'pron': 0.14285714285714285}, 'mengungkapkan': {'verb': 0.5}, 'kesedihan': {'noun': 0.5}, 'mendalam': {'adj': 0.5}, 'akan': {'adv': 0.01639344262295082}, 'hal': {'noun': 0.13636363636363635}, 'pdt': {'propn': 0.5}, 'fecki': {'propn': 0.5}, 'pemimpin': {'propn': 0.1}, 'umum': {'propn': 0.125}, 'redaksi': {'propn': 0.5}, 'renungan': {'propn': 0.5}, 'harian': {'propn': 0.5}, 'anggur': {'propn': 0.5}, 'baru': {'propn': 0.02857142857142857, 'adj': 0.02857142857142857}, 'menjabat': {'verb': 0.07142857142857142}, 'sekretaris': {'noun': 0.5}, 'ii': {'num': 0.14285714285714285, 'propn': 0.14285714285714285}, 'bph': {'noun': 0.5}, 'sinode': {'noun': 0.5}, 'gereja': {'noun': 0.5}, 'bethel': {'propn': 0.5}, 'periode': {'noun': 0.125}, '2008': {'num': 0.5}, '2012': {'num': 0.16666666666666666}, 'lelaki': {'propn': 0.16666666666666666}, 'telaga': {'propn': 0.5}, 'solo': {'noun': 0.5}, 'franky': {'propn': 0.5}, 'sahilatua': {'propn': 0.5}, 'berisi': {'verb': 0.125}, 'tiga': {'num': 0.15384615384615385}, 'hitam': {'propn': 0.14285714285714285}, 'putih': {'propn': 0.16666666666666666}, 'nyanyian': {'propn': 0.5}, 'para': {'propn': 0.03571428571428571, 'det': 0.03571428571428571}, 'mantan': {'propn': 0.2}, 'sisanya': {'noun': 0.25}, 'diambil': {'verb': 0.25}, 'sebelumnya': {'adj': 0.08333333333333333}, '&amp;': {'sym': 1}, 'jane': {'propn': 0.5}, 'dapat': {'adv': 0.05405405405405406}, 'disebabkan': {'verb': 0.25}, 'konsumsi': {'noun': 0.5}, 'obat': {'noun': 0.5}, 'mengandung': {'verb': 0.3333333333333333}, 'kortikosteroid': {'noun': 0.5}, 'seperti': {'adp': 0.06896551724137931}, 'medroksiprogesteron': {'noun': 0.5}, 'asetat': {'adj': 0.5}, 'biasa': {'adv': 0.09090909090909091}, 'digunakan': {'verb': 0.07142857142857142}, 'berbagai': {'det': 0.14285714285714285}, 'pengobatan': {'noun': 0.5}, 'penyakit': {'noun': 0.25}, 'akut': {'adj': 0.5}, 'bahan': {'noun': 0.25}, 'kontrasepsi': {'noun': 0.5}, 'estrogen': {'noun': 0.5}, 'mestranol': {'noun': 0.5}, 'menjalani': {'verb': 0.5}, 'adrenalektomi': {'noun': 0.5}, 'mengakibatkan': {'verb': 0.5}, 'terjadinya': {'verb': 0.5}, 'adenoma': {'noun': 0.5}, 'kelenjar': {'noun': 0.5}, 'hipofisis': {'noun': 0.5}, 'melingge': {'propn': 0.5}, 'gampong': {'propn': 0.5}, 'pulo': {'propn': 0.5}, 'aceh': {'propn': 0.4}, 'penggabungan': {'propn': 0.5}, 'ketiganya': {'noun': 0.5}, 'menghasilkan': {'verb': 0.25}, 'kembalinya': {'noun': 0.5}, 'tao': {'propn': 0.5}, 'dewata': {'propn': 0.5}, 'murni': {'propn': 0.25}, 'chi': {'propn': 0.5}, 'universal': {'adj': 0.5}, 'surgawi': {'adj': 0.5}, 'widodo': {'propn': 0.5}, 'cahyono': {'propn': 0.5}, 'putro': {'propn': 0.5}, 'seorang': {'det': 0.05128205128205128}, 'pelatih': {'noun': 0.3333333333333333}, 'pemain': {'noun': 0.09090909090909091}, 'sepak': {'noun': 0.0625}, 'bola': {'noun': 0.05263157894736842}, 'legendaris': {'noun': 0.5}, 'istilah': {'noun': 0.25}, 'provinsi': {'propn': 0.12}, 'nanggroe': {'propn': 0.25}, 'darussalam': {'propn': 0.25}, 'disebut': {'verb': 0.10526315789473684}, 'sagoe': {'propn': 0.5}, 'cut': {'propn': 0.5}, 'sedangkan': {'sconj': 0.1111111111111111}, 'papua': {'propn': 0.5}, 'distrik': {'propn': 0.125}, 'wedi': {'propn': 0.5}, 'wilayah': {'noun': 0.0625}, 'gedangan': {'propn': 0.5}, 'sidoarjo': {'propn': 0.5}, 'timur': {'propn': 0.05263157894736842, 'noun': 0.05263157894736842}, 'versi': {'noun': 0.25}, 'remix': {'noun': 0.16666666666666666, 'propn': 0.16666666666666666}, 'hurt': {'propn': 0.5}, 'snowflakes': {'propn': 0.5}, 'sering': {'adv': 0.07142857142857142}, 'diputar': {'verb': 0.5}, 'radio': {'noun': 0.5}, 'inggris': {'propn': 0.07142857142857142}, 'sangat': {'adv': 0.05263157894736842}, 'populer': {'adj': 0.5}, 'penggemar': {'noun': 0.25}, 'musik': {'noun': 0.1875}, 'urban': {'noun': 0.5}, 'ryan': {'propn': 0.5}, 'hidayat': {'propn': 0.5}, 'aktor': {'noun': 0.25}, 'pria': {'noun': 0.25}, 'menurut': {'verb': 0.16666666666666666}, 'joseon': {'propn': 0.5}, 'sangosa': {'propn': 0.5}, 'kehancuran': {'noun': 0.5}, 'gojoseon': {'propn': 0.5}, 'mulai': {'verb': 0.043478260869565216}, '400': {'num': 0.25}, 'sm': {'propn': 0.16666666666666666}, 'yan': {'noun': 0.5}, 'menyerang': {'noun': 0.25}, 'gihu': {'propn': 0.5}, 'raja': {'noun': 0.05555555555555555}, 'beonjoseon': {'propn': 0.5}, 'november': {'propn': 0.0625}, 'cakraningrat': {'propn': 0.5}, 'kartasura': {'propn': 0.5}, 'kembali': {'adv': 0.07142857142857142}, 'rose': {'propn': 0.16666666666666666}, 'kawan': {'noun': 0.2}, 'lulus': {'verb': 0.25}, 'akademi': {'noun': 0.16666666666666666}, 'wajib': {'adv': 0.5}, 'mengikuti': {'verb': 0.25}, 'ujian': {'noun': 0.16666666666666666}, 'lapangan': {'noun': 0.25}, 'sdn': {'propn': 0.5}, '004': {'propn': 0.5}, 'bengkong': {'propn': 0.5}, 'sekolah': {'noun': 0.08333333333333333}, 'menengah': {'propn': 0.5}, 'dasar': {'propn': 0.16666666666666666}, 'negeri': {'propn': 0.05555555555555555}, 'kepulauan': {'propn': 0.16666666666666666}, 'riau': {'propn': 0.16666666666666666}, 'beralamat': {'verb': 0.5}, 'jl': {'propn': 0.25}, 'siak': {'propn': 0.5}, 'baloi': {'propn': 0.5}, 'batam': {'propn': 0.5}, 'akankah': {'adv': 0.08333333333333333}, 'farah': {'propn': 0.5}, 'tetap': {'adv': 0.16666666666666666}, 'bertahan': {'verb': 0.5}, 'sgt': {'propn': 0.5}, \"pepper's\": {'propn': 1}, 'lonely': {'propn': 0.5}, 'hearts': {'propn': 0.5}, 'club': {'propn': 0.5}, 'band': {'noun': 0.3333333333333333}, 'menggunakan': {'verb': 0.16666666666666666}, 'beragam': {'det': 0.25}, 'alat': {'noun': 0.5}, 'india': {'propn': 0.25}, 'within': {'propn': 0.5}, 'you': {'propn': 0.5}, 'without': {'propn': 0.5}, 'klarinet': {'noun': 0.5}, 'when': {'propn': 0.5}, 'i': {'propn': 0.25}, 'sixty': {'propn': 0.5}, 'four': {'propn': 0.5}, 'gesek': {'verb': 0.5}, \"she's\": {'propn': 1}, 'leaving': {'propn': 0.5}, 'home': {'propn': 0.5}, 'harpsicord': {'propn': 0.5}, 'fixing': {'propn': 0.5}, 'a': {'propn': 0.16666666666666666}, 'hole': {'propn': 0.5}, 'harmonium': {'noun': 0.5}, 'being': {'propn': 0.5}, 'the': {'propn': 0.09090909090909091}, 'benefit': {'propn': 0.5}, 'of': {'propn': 0.0625}, 'mr': {'propn': 0.5}, 'kite': {'propn': 0.5}, 'banyak': {'noun': 0.041666666666666664}, 'lagi': {'adv': 0.1}, 'konsekuensi': {'noun': 0.5}, 'logis': {'adj': 0.5}, 'pula': {'adv': 0.2}, 'diekspresikan': {'verb': 0.5}, 'fungsi': {'noun': 0.125}, 'himpunan': {'noun': 0.5}, 'kalimat': {'noun': 0.375}, 'terhadap': {'adp': 0.07142857142857142}, 'formulasi': {'noun': 0.5}, 'tarski': {'propn': 0.5}, 'hubungan': {'noun': 0.125}, 'antara': {'adp': 0.0625}, 'logika': {'noun': 0.5}, 'simpulan': {'noun': 0.5}, 'jamak': {'noun': 0.5}, 'multiple': {'propn': 0.5}, 'conclusion': {'propn': 0.5}, 'logic': {'propn': 0.5}, 'terminal': {'propn': 0.125, 'noun': 0.25}, 'kargo': {'propn': 0.5}, 'berlokasi': {'verb': 0.125}, 'laut': {'noun': 0.125}, 'penumpang': {'noun': 0.25}, 'luas': {'noun': 0.1}, '9000': {'num': 0.5}, 'mï¿½': {'sym': 0.5}, 'bekas': {'noun': 0.16666666666666666}, 'krisis': {'propn': 0.16666666666666666, 'noun': 0.16666666666666666}, 'finansial': {'adj': 0.5}, 'islandia': {'propn': 0.5}, 'masalah': {'noun': 0.09090909090909091}, 'memengaruhi': {'verb': 0.5}, 'ekonomi': {'noun': 0.3333333333333333}, 'sistem': {'noun': 0.07142857142857142}, 'perbankan': {'noun': 0.5}, 'dampak': {'noun': 0.5}, 'dunia': {'noun': 0.15384615384615385}, 'sekitar': {'det': 0.07142857142857142, 'adp': 0.07142857142857142}, '95': {'num': 0.5}, '%': {'sym': 0.125}, 'kreatina': {'propn': 0.5}, 'disimpan': {'verb': 0.25}, 'otot': {'noun': 0.5}, 'rangka': {'noun': 0.25}, 'namun': {'cconj': 0.05555555555555555, 'sconj': 0.05555555555555555}, 'rupanya': {'adv': 0.5}, 'amba': {'propn': 0.5}, 'franda': {'propn': 0.5}, 'manajemen': {'noun': 0.5}, 'merasa': {'verb': 0.5}, 'tersaingi': {'verb': 0.5}, 'diperkirakan': {'verb': 0.5}, '11': {'num': 0.1111111111111111}, '12': {'num': 0.25}, 'juta': {'num': 0.16666666666666666}, 'jiwa': {'noun': 0.058823529411764705}, 'bangsa': {'noun': 0.25}, 'armenia': {'propn': 0.5}, 'mempunyai': {'verb': 0.0625}, 'istri': {'noun': 0.16666666666666666}, 'empat': {'num': 0.2}, 'orang': {'det': 0.017857142857142856, 'noun': 0.017857142857142856}, 'anak': {'noun': 0.05}, 'geovedi': {'propn': 0.5}, 'mengaku': {'verb': 0.5}, 'pernah': {'adv': 0.1111111111111111}, 'meretas': {'verb': 0.5}, 'satelit': {'noun': 0.25}, 'cina': {'propn': 0.05555555555555555}, 'milik': {'verb': 0.16666666666666666}, 'kliennya': {'noun': 0.5}, 'kebanyakan': {'det': 0.25}, 'penduduknya': {'noun': 0.125}, 'beragama': {'verb': 0.5}, 'katolik': {'propn': 0.16666666666666666}, 'roma': {'propn': 0.3333333333333333}, 'sedikit': {'adv': 0.5}, 'islam': {'propn': 0.25}, 'situ': {'noun': 0.5}, 'duryodana': {'noun': 0.5}, 'selalu': {'adv': 0.25}, 'cemburu': {'adj': 0.5}, 'pandawa': {'propn': 0.5}, 'berusaha': {'verb': 0.5}, 'membunuh': {'verb': 0.5}} \n\n"
     ]
    }
   ],
   "source": [
    "print('Probability of a word labeled with a tag (emission probability)\\n',emission_probability,'\\n')"
   ]
  },
  {
   "cell_type": "code",
   "execution_count": 10,
   "metadata": {},
   "outputs": [
    {
     "name": "stdout",
     "output_type": "stream",
     "text": [
      "The words with each its highest probability {'s.t.r': {'start': 0.10390946502057613}, 'sembungan': {'propn': 0.5}, 'adalah': {'aux': 0.06395348837209303}, 'sebuah': {'det': 0.07575757575757576}, 'desa': {'noun': 0.0625}, 'yang': {'pron': 0.04195804195804196}, 'terletak': {'verb': 0.05263157894736842}, 'di': {'adp': 0.06222222222222222}, 'kecamatan': {'propn': 0.027777777777777776}, 'kejajar': {'propn': 0.5}, ',': {'punct': 0.05204081632653061}, 'kabupaten': {'propn': 0.08}, 'wonosobo': {'propn': 0.5}, 'jawa': {'propn': 0.2}, 'tengah': {'propn': 0.07692307692307693}, 'indonesia': {'propn': 0.08433734939759036}, '.': {'punct': 0.06338028169014084}, 'serangan': {'noun': 0.25}, 'pengayauan': {'noun': 0.5}, 'biasanya': {'adv': 0.14285714285714285}, 'terjadi': {'verb': 0.08333333333333333}, 'ladang': {'noun': 0.5}, 'atau': {'cconj': 0.10909090909090909}, 'dengan': {'adp': 0.03888888888888889}, 'membakar': {'verb': 0.25}, 'rumah': {'noun': 0.1111111111111111}, 'dan': {'cconj': 0.048879837067209775}, 'memenggal': {'verb': 0.5}, 'semua': {'det': 0.15384615384615385}, 'penghuninya': {'noun': 0.5}, 'ketika': {'sconj': 0.1111111111111111}, 'mereka': {'pron': 0.05063291139240506}, 'melarikan': {'verb': 0.3333333333333333}, 'diri': {'noun': 0.125}, 'perkembangan': {'noun': 0.5}, 'ini': {'det': 0.058823529411764705}, 'diikuti': {'verb': 0.16666666666666666}, 'oleh': {'adp': 0.05426356589147287}, 'helm': {'noun': 0.5}, 'brodie': {'propn': 0.5}, 'dipakai': {'verb': 0.125}, 'tentara': {'noun': 0.125}, 'imperium': {'propn': 0.25}, 'britania': {'propn': 0.5}, 'as': {'propn': 0.25}, 'pada': {'adp': 0.03317535545023697}, 'tahun': {'noun': 0.0364963503649635}, '1916': {'num': 0.25}, 'stahlhelm': {'propn': 0.5}, 'jerman': {'propn': 0.06666666666666667}, 'perbaikan': {'noun': 0.5}, 'desain': {'noun': 0.25}, 'masih': {'adv': 0.1}, 'sampai': {'adp': 0.09523809523809523}, 'sekarang': {'noun': 0.05}, 'dari': {'adp': 0.047619047619047616}, 'jarak': {'noun': 0.5}, 'dekat': {'adj': 0.5}, 'dua': {'num': 0.1111111111111111}, 'kapal': {'noun': 0.5}, 'perusak': {'noun': 0.5}, 'sterett': {'propn': 0.5}, 'o': {'propn': 0.5}, \"'\": {'punct': 0.18571428571428572}, 'bannon': {'propn': 0.5}, 'menembakkan': {'verb': 0.5}, 'beberapa': {'det': 0.0967741935483871}, 'kali': {'noun': 0.125}, 'salvo': {'noun': 0.5}, 'ke': {'adp': 0.07547169811320754}, 'bangunan': {'noun': 0.375}, 'atas': {'adp': 0.038461538461538464}, 'hiei': {'propn': 0.5}, 'sebelum': {'sconj': 0.1111111111111111}, 'dalam': {'adp': 0.03076923076923077}, 'kegelapan': {'noun': 0.5}, 'keduanya': {'noun': 0.5}, 'mungkin': {'adv': 0.125}, 'sempat': {'adv': 0.5}, 'menyarangkan': {'verb': 0.5}, 'satu': {'num': 0.03773584905660377}, 'buah': {'noun': 0.25}, 'torpedo': {'noun': 0.5}, 'bagian': {'noun': 0.1111111111111111}, 'lambung': {'noun': 0.5}, 'hingga': {'adp': 0.045454545454545456}, 'makin': {'adv': 0.5}, 'memperparah': {'verb': 0.5}, 'kerusakan': {'noun': 0.25}, 'angka': {'propn': 0.5}, 'harapan': {'propn': 0.25}, 'hidup': {'verb': 0.125}, '73': {'num': 0.5}, '4': {'num': 0.1}, 'yakni': {'adp': 0.16666666666666666}, 'bawah': {'noun': 0.08333333333333333}, 'rerata': {'noun': 0.5}, 'uni': {'propn': 0.16666666666666666}, 'eropa': {'propn': 0.16666666666666666}, 'pasukan': {'propn': 0.125}, 'mongol': {'propn': 0.5}, 'tidak': {'part': 0.0379746835443038}, 'tahu': {'verb': 0.5}, 'apa': {'noun': 0.10526315789473684}, 'harus': {'adv': 0.0625}, 'perbuat': {'verb': 0.5}, 'itu': {'noun': 0.024390243902439025}, 'disiasati': {'verb': 0.5}, 'raden': {'propn': 0.5}, 'wijaya': {'propn': 0.25}, 'untuk': {'adp': 0.045112781954887216}, 'membantunya': {'verb': 0.5}, 'memberontak': {'verb': 0.5}, 'melawan': {'adp': 0.08333333333333333}, 'kerajaan': {'propn': 0.05}, 'kediri': {'propn': 0.5}, 'krogh': {'propn': 0.5}, 'juga': {'adv': 0.07246376811594203}, 'pertama': {'num': 0.05555555555555555}, 'membuat': {'verb': 0.14285714285714285}, 'studi': {'noun': 0.5}, 'perbandingan': {'noun': 0.5}, 'hewan': {'noun': 0.16666666666666666}, 'lagu': {'propn': 0.034482758620689655}, 'kemudian': {'adv': 0.07142857142857142}, 'ditampilkan': {'verb': 0.5}, 'sebagai': {'adp': 0.06896551724137931}, 'utama': {'adj': 0.08333333333333333}, 'rilisan': {'noun': 0.5}, 'ep': {'propn': 0.5}, '(': {'punct': 0.038461538461538464}, 'extended': {'propn': 0.5}, 'play': {'propn': 0.16666666666666666}, ')': {'punct': 0.0380952380952381}, 'moshi': {'propn': 0.5}, 'harajuku': {'propn': 0.5}, 'album': {'noun': 0.21875}, '\"': {'punct': 0.09316770186335403}, 'pamyu': {'propn': 0.5}, 'revolution': {'propn': 0.5}, 'maka': {'sconj': 0.1}, 'dimulailah': {'verb': 0.5}, 'suatu': {'det': 0.125}, 'gerakan': {'noun': 0.25}, 'bertujuan': {'verb': 0.5}, 'membentuk': {'verb': 0.16666666666666666}, 'kelompok': {'noun': 0.16666666666666666}, 'pendidikan': {'propn': 0.07692307692307693}, 'cikal': {'noun': 0.5}, 'bakal': {'noun': 0.25}, 'lembaga': {'propn': 0.25}, 'dirintis': {'verb': 0.5}, 'ulama': {'noun': 0.25}, 'terdahulu': {'adj': 0.5}, 'antaranya': {'adp': 0.125}, 'almarhum': {'noun': 0.5}, 'bapak': {'propn': 0.25}, 'm': {'propn': 1.0}, 'basith': {'propn': 0.5}, 'kegiatan': {'noun': 0.1}, 'belajar': {'noun': 0.125}, 'mengajarnya': {'verb': 0.5}, 'bermula': {'verb': 0.5}, 'musholla': {'propn': 0.5}, 'taqwa': {'propn': 0.5}, 'muaradua': {'propn': 0.5}, 'sejak': {'adp': 0.03333333333333333}, 'pengujung': {'noun': 0.5}, '70': {'num': 0.5}, '-': {'punct': 0.04868913857677903}, 'an': {'num': 0.1875}, 'demikian': {'pron': 0.1}, 'bagi': {'adp': 0.125}, 'sebagian': {'det': 0.05555555555555555}, 'besar': {'propn': 0.02702702702702703}, 'kalangan': {'noun': 0.5}, 'masyarakat': {'noun': 0.1}, 'menganggap': {'verb': 0.25}, 'bahwa': {'sconj': 0.02857142857142857}, 'pemerintahan': {'noun': 0.09090909090909091}, 'amerika': {'propn': 0.038461538461538464}, 'serikat': {'propn': 0.14285714285714285}, 'terlalu': {'adv': 0.1}, 'birokratis': {'adj': 0.5}, 'aliran': {'noun': 0.5}, 'memiliki': {'verb': 0.05172413793103448}, 'ajaran': {'noun': 0.16666666666666666}, 'bervariasi': {'verb': 0.5}, 'mengenai': {'punct': 0.2}, 'kristologi': {'propn': 0.5}, 'yesus': {'propn': 0.16666666666666666}, ':': {'punct': 0.021739130434782608}, 'doketisme': {'noun': 0.5}, 'merupakan': {'verb': 0.06060606060606061}, 'salah': {'det': 0.05128205128205128}, 'gnostisisme': {'propn': 0.5}, 'ada': {'verb': 0.13513513513513514}, 'saat': {'noun': 0.022727272727272728}, 'santa': {'propn': 0.5}, 'fe': {'propn': 0.5}, 'kotamadya': {'noun': 0.25}, 'vega': {'propn': 0.5}, 'de': {'propn': 0.16666666666666666}, 'granada': {'propn': 0.5}, 'spanyol': {'propn': 0.5}, 'dialiri': {'verb': 0.5}, 'sungai': {'propn': 0.125}, 'genil': {'propn': 0.5}, 'didesain': {'verb': 0.5}, 'serang': {'verb': 0.5}, 'berkecapatan': {'verb': 0.5}, 'tinggi': {'adj': 0.09523809523809523}, 'mencapai': {'verb': 0.14285714285714285}, 'badan': {'noun': 0.25}, 'dibuat': {'verb': 0.16666666666666666}, 'aluminium': {'propn': 0.5}, 'sehingga': {'adp': 0.05555555555555555}, 'bisa': {'adv': 0.1}, 'lebih': {'adv': 0.045454545454545456}, 'ringan': {'adj': 0.5}, 'selain': {'adp': 0.2}, 'kecepatan': {'noun': 0.18181818181818182}, 'dilengkapi': {'verb': 0.25}, 'mesin': {'noun': 0.25}, 'gas': {'noun': 0.5}, 'turbin': {'noun': 0.5}, 'general': {'propn': 0.5}, 'electric': {'propn': 0.5}, 'lm': {'propn': 0.5}, '1500': {'num': 0.5}, '2': {'num': 0.0625}, 'diesel': {'noun': 0.5}, 'rendah': {'adj': 0.16666666666666666}, 'partai': {'propn': 0.08333333333333333}, 'didirikan': {'verb': 0.5}, 'bulan': {'propn': 0.037037037037037035}, 'desember': {'propn': 0.08333333333333333}, '1945': {'num': 0.25}, 'purwakarta': {'propn': 0.5}, 'keterangan': {'noun': 0.5}, 'kejatuhan': {'noun': 0.5}, 'yerusalem': {'propn': 0.25}, 'berbeda': {'verb': 0.25}, 'kota': {'noun': 0.07692307692307693}, 'lain': {'adj': 0.03636363636363636}, 'maupun': {'cconj': 0.3333333333333333}, 'gagalnya': {'noun': 0.5}, 'sanherib': {'noun': 0.5}, 'merebut': {'verb': 0.2857142857142857}, 'bang': {'propn': 0.5}, 'yong': {'propn': 0.5}, 'guk': {'propn': 0.5}, 'berkomentar': {'verb': 0.5}, 'tujuan': {'noun': 0.125}, 'saya': {'pron': 0.16666666666666666}, 'awal': {'adj': 0.09090909090909091}, 'menjadi': {'verb': 0.024691358024691357}, 'penyanyi': {'noun': 0.5}, 'k': {'propn': 0.5}, 'pop': {'propn': 0.125}, 'lambda': {'propn': 0.5}, 'organisasi': {'noun': 0.5}, 'sejenis': {'noun': 0.5}, 'lainnya': {'adj': 0.1111111111111111}, 'bermunculan': {'verb': 0.5}, 'akhir': {'noun': 0.08333333333333333}, '1980': {'num': 0.25}, '1990': {'num': 0.16666666666666666}, 'letaknya': {'noun': 0.25}, 'utara': {'noun': 0.14285714285714285}, 'ia': {'pron': 0.05555555555555555}, 'lakukan': {'verb': 0.5}, 'mengapa': {'noun': 0.05263157894736842}, 'melakukannya': {'verb': 0.16666666666666666}, '?': {'punct': 0.029197080291970802}, 'soa': {'propn': 0.5}, 'sahertian': {'propn': 0.5}, 'tetelepta': {'propn': 0.5}, 'polnaya': {'propn': 0.5}, 'wattimury': {'propn': 0.5}, 'latuihamallo': {'propn': 0.5}, 'aponno': {'propn': 0.5}, 'apakah': {'noun': 0.041666666666666664}, 'gelasnya': {'noun': 0.5}, 'setengah': {'adj': 0.3333333333333333}, 'kosong': {'adj': 0.5}, 'penuh': {'adj': 0.5}, 'itulah': {'det': 0.16666666666666666}, 'sekilas': {'noun': 0.5}, 'wajah': {'noun': 0.25}, '/': {'sym': 0.13333333333333333}, 'cermin': {'noun': 0.5}, 'mundu': {'propn': 0.5}, 'bagaimana': {'adv': 0.08333333333333333}, 'kita': {'pron': 0.14285714285714285}, 'mengungkapkan': {'verb': 0.5}, 'kesedihan': {'noun': 0.5}, 'mendalam': {'adj': 0.5}, 'akan': {'adv': 0.01639344262295082}, 'hal': {'noun': 0.13636363636363635}, 'pdt': {'propn': 0.5}, 'fecki': {'propn': 0.5}, 'pemimpin': {'propn': 0.1}, 'umum': {'propn': 0.125}, 'redaksi': {'propn': 0.5}, 'renungan': {'propn': 0.5}, 'harian': {'propn': 0.5}, 'anggur': {'propn': 0.5}, 'baru': {'propn': 0.02857142857142857}, 'menjabat': {'verb': 0.07142857142857142}, 'sekretaris': {'noun': 0.5}, 'ii': {'propn': 0.14285714285714285}, 'bph': {'noun': 0.5}, 'sinode': {'noun': 0.5}, 'gereja': {'noun': 0.5}, 'bethel': {'propn': 0.5}, 'periode': {'noun': 0.125}, '2008': {'num': 0.5}, '2012': {'num': 0.16666666666666666}, 'lelaki': {'propn': 0.16666666666666666}, 'telaga': {'propn': 0.5}, 'solo': {'noun': 0.5}, 'franky': {'propn': 0.5}, 'sahilatua': {'propn': 0.5}, 'berisi': {'verb': 0.125}, 'tiga': {'num': 0.15384615384615385}, 'hitam': {'propn': 0.14285714285714285}, 'putih': {'propn': 0.16666666666666666}, 'nyanyian': {'propn': 0.5}, 'para': {'propn': 0.03571428571428571}, 'mantan': {'propn': 0.2}, 'sisanya': {'noun': 0.25}, 'diambil': {'verb': 0.25}, 'sebelumnya': {'adj': 0.08333333333333333}, '&amp;': {'sym': 1}, 'jane': {'propn': 0.5}, 'dapat': {'adv': 0.05405405405405406}, 'disebabkan': {'verb': 0.25}, 'konsumsi': {'noun': 0.5}, 'obat': {'noun': 0.5}, 'mengandung': {'verb': 0.3333333333333333}, 'kortikosteroid': {'noun': 0.5}, 'seperti': {'adp': 0.06896551724137931}, 'medroksiprogesteron': {'noun': 0.5}, 'asetat': {'adj': 0.5}, 'biasa': {'adv': 0.09090909090909091}, 'digunakan': {'verb': 0.07142857142857142}, 'berbagai': {'det': 0.14285714285714285}, 'pengobatan': {'noun': 0.5}, 'penyakit': {'noun': 0.25}, 'akut': {'adj': 0.5}, 'bahan': {'noun': 0.25}, 'kontrasepsi': {'noun': 0.5}, 'estrogen': {'noun': 0.5}, 'mestranol': {'noun': 0.5}, 'menjalani': {'verb': 0.5}, 'adrenalektomi': {'noun': 0.5}, 'mengakibatkan': {'verb': 0.5}, 'terjadinya': {'verb': 0.5}, 'adenoma': {'noun': 0.5}, 'kelenjar': {'noun': 0.5}, 'hipofisis': {'noun': 0.5}, 'melingge': {'propn': 0.5}, 'gampong': {'propn': 0.5}, 'pulo': {'propn': 0.5}, 'aceh': {'propn': 0.4}, 'penggabungan': {'propn': 0.5}, 'ketiganya': {'noun': 0.5}, 'menghasilkan': {'verb': 0.25}, 'kembalinya': {'noun': 0.5}, 'tao': {'propn': 0.5}, 'dewata': {'propn': 0.5}, 'murni': {'propn': 0.25}, 'chi': {'propn': 0.5}, 'universal': {'adj': 0.5}, 'surgawi': {'adj': 0.5}, 'widodo': {'propn': 0.5}, 'cahyono': {'propn': 0.5}, 'putro': {'propn': 0.5}, 'seorang': {'det': 0.05128205128205128}, 'pelatih': {'noun': 0.3333333333333333}, 'pemain': {'noun': 0.09090909090909091}, 'sepak': {'noun': 0.0625}, 'bola': {'noun': 0.05263157894736842}, 'legendaris': {'noun': 0.5}, 'istilah': {'noun': 0.25}, 'provinsi': {'propn': 0.12}, 'nanggroe': {'propn': 0.25}, 'darussalam': {'propn': 0.25}, 'disebut': {'verb': 0.10526315789473684}, 'sagoe': {'propn': 0.5}, 'cut': {'propn': 0.5}, 'sedangkan': {'sconj': 0.1111111111111111}, 'papua': {'propn': 0.5}, 'distrik': {'propn': 0.125}, 'wedi': {'propn': 0.5}, 'wilayah': {'noun': 0.0625}, 'gedangan': {'propn': 0.5}, 'sidoarjo': {'propn': 0.5}, 'timur': {'propn': 0.05263157894736842}, 'versi': {'noun': 0.25}, 'remix': {'propn': 0.16666666666666666}, 'hurt': {'propn': 0.5}, 'snowflakes': {'propn': 0.5}, 'sering': {'adv': 0.07142857142857142}, 'diputar': {'verb': 0.5}, 'radio': {'noun': 0.5}, 'inggris': {'propn': 0.07142857142857142}, 'sangat': {'adv': 0.05263157894736842}, 'populer': {'adj': 0.5}, 'penggemar': {'noun': 0.25}, 'musik': {'noun': 0.1875}, 'urban': {'noun': 0.5}, 'ryan': {'propn': 0.5}, 'hidayat': {'propn': 0.5}, 'aktor': {'noun': 0.25}, 'pria': {'noun': 0.25}, 'menurut': {'verb': 0.16666666666666666}, 'joseon': {'propn': 0.5}, 'sangosa': {'propn': 0.5}, 'kehancuran': {'noun': 0.5}, 'gojoseon': {'propn': 0.5}, 'mulai': {'verb': 0.043478260869565216}, '400': {'num': 0.25}, 'sm': {'propn': 0.16666666666666666}, 'yan': {'noun': 0.5}, 'menyerang': {'noun': 0.25}, 'gihu': {'propn': 0.5}, 'raja': {'noun': 0.05555555555555555}, 'beonjoseon': {'propn': 0.5}, 'november': {'propn': 0.0625}, 'cakraningrat': {'propn': 0.5}, 'kartasura': {'propn': 0.5}, 'kembali': {'adv': 0.07142857142857142}, 'rose': {'propn': 0.16666666666666666}, 'kawan': {'noun': 0.2}, 'lulus': {'verb': 0.25}, 'akademi': {'noun': 0.16666666666666666}, 'wajib': {'adv': 0.5}, 'mengikuti': {'verb': 0.25}, 'ujian': {'noun': 0.16666666666666666}, 'lapangan': {'noun': 0.25}, 'sdn': {'propn': 0.5}, '004': {'propn': 0.5}, 'bengkong': {'propn': 0.5}, 'sekolah': {'noun': 0.08333333333333333}, 'menengah': {'propn': 0.5}, 'dasar': {'propn': 0.16666666666666666}, 'negeri': {'propn': 0.05555555555555555}, 'kepulauan': {'propn': 0.16666666666666666}, 'riau': {'propn': 0.16666666666666666}, 'beralamat': {'verb': 0.5}, 'jl': {'propn': 0.25}, 'siak': {'propn': 0.5}, 'baloi': {'propn': 0.5}, 'batam': {'propn': 0.5}, 'akankah': {'adv': 0.08333333333333333}, 'farah': {'propn': 0.5}, 'tetap': {'adv': 0.16666666666666666}, 'bertahan': {'verb': 0.5}, 'sgt': {'propn': 0.5}, \"pepper's\": {'propn': 1}, 'lonely': {'propn': 0.5}, 'hearts': {'propn': 0.5}, 'club': {'propn': 0.5}, 'band': {'noun': 0.3333333333333333}, 'menggunakan': {'verb': 0.16666666666666666}, 'beragam': {'det': 0.25}, 'alat': {'noun': 0.5}, 'india': {'propn': 0.25}, 'within': {'propn': 0.5}, 'you': {'propn': 0.5}, 'without': {'propn': 0.5}, 'klarinet': {'noun': 0.5}, 'when': {'propn': 0.5}, 'i': {'propn': 0.25}, 'sixty': {'propn': 0.5}, 'four': {'propn': 0.5}, 'gesek': {'verb': 0.5}, \"she's\": {'propn': 1}, 'leaving': {'propn': 0.5}, 'home': {'propn': 0.5}, 'harpsicord': {'propn': 0.5}, 'fixing': {'propn': 0.5}, 'a': {'propn': 0.16666666666666666}, 'hole': {'propn': 0.5}, 'harmonium': {'noun': 0.5}, 'being': {'propn': 0.5}, 'the': {'propn': 0.09090909090909091}, 'benefit': {'propn': 0.5}, 'of': {'propn': 0.0625}, 'mr': {'propn': 0.5}, 'kite': {'propn': 0.5}, 'banyak': {'noun': 0.041666666666666664}, 'lagi': {'adv': 0.1}, 'konsekuensi': {'noun': 0.5}, 'logis': {'adj': 0.5}, 'pula': {'adv': 0.2}, 'diekspresikan': {'verb': 0.5}, 'fungsi': {'noun': 0.125}, 'himpunan': {'noun': 0.5}, 'kalimat': {'noun': 0.375}, 'terhadap': {'adp': 0.07142857142857142}, 'formulasi': {'noun': 0.5}, 'tarski': {'propn': 0.5}, 'hubungan': {'noun': 0.125}, 'antara': {'adp': 0.0625}, 'logika': {'noun': 0.5}, 'simpulan': {'noun': 0.5}, 'jamak': {'noun': 0.5}, 'multiple': {'propn': 0.5}, 'conclusion': {'propn': 0.5}, 'logic': {'propn': 0.5}, 'terminal': {'propn': 0.125}, 'kargo': {'propn': 0.5}, 'berlokasi': {'verb': 0.125}, 'laut': {'noun': 0.125}, 'penumpang': {'noun': 0.25}, 'luas': {'noun': 0.1}, '9000': {'num': 0.5}, 'mï¿½': {'sym': 0.5}, 'bekas': {'noun': 0.16666666666666666}, 'krisis': {'propn': 0.16666666666666666}, 'finansial': {'adj': 0.5}, 'islandia': {'propn': 0.5}, 'masalah': {'noun': 0.09090909090909091}, 'memengaruhi': {'verb': 0.5}, 'ekonomi': {'noun': 0.3333333333333333}, 'sistem': {'noun': 0.07142857142857142}, 'perbankan': {'noun': 0.5}, 'dampak': {'noun': 0.5}, 'dunia': {'noun': 0.15384615384615385}, 'sekitar': {'det': 0.07142857142857142}, '95': {'num': 0.5}, '%': {'sym': 0.125}, 'kreatina': {'propn': 0.5}, 'disimpan': {'verb': 0.25}, 'otot': {'noun': 0.5}, 'rangka': {'noun': 0.25}, 'namun': {'sconj': 0.05555555555555555}, 'rupanya': {'adv': 0.5}, 'amba': {'propn': 0.5}, 'franda': {'propn': 0.5}, 'manajemen': {'noun': 0.5}, 'merasa': {'verb': 0.5}, 'tersaingi': {'verb': 0.5}, 'diperkirakan': {'verb': 0.5}, '11': {'num': 0.1111111111111111}, '12': {'num': 0.25}, 'juta': {'num': 0.16666666666666666}, 'jiwa': {'noun': 0.058823529411764705}, 'bangsa': {'noun': 0.25}, 'armenia': {'propn': 0.5}, 'mempunyai': {'verb': 0.0625}, 'istri': {'noun': 0.16666666666666666}, 'empat': {'num': 0.2}, 'orang': {'noun': 0.017857142857142856}, 'anak': {'noun': 0.05}, 'geovedi': {'propn': 0.5}, 'mengaku': {'verb': 0.5}, 'pernah': {'adv': 0.1111111111111111}, 'meretas': {'verb': 0.5}, 'satelit': {'noun': 0.25}, 'cina': {'propn': 0.05555555555555555}, 'milik': {'verb': 0.16666666666666666}, 'kliennya': {'noun': 0.5}, 'kebanyakan': {'det': 0.25}, 'penduduknya': {'noun': 0.125}, 'beragama': {'verb': 0.5}, 'katolik': {'propn': 0.16666666666666666}, 'roma': {'propn': 0.3333333333333333}, 'sedikit': {'adv': 0.5}, 'islam': {'propn': 0.25}, 'situ': {'noun': 0.5}, 'duryodana': {'noun': 0.5}, 'selalu': {'adv': 0.25}, 'cemburu': {'adj': 0.5}, 'pandawa': {'propn': 0.5}, 'berusaha': {'verb': 0.5}, 'membunuh': {'verb': 0.5}}\n"
     ]
    }
   ],
   "source": [
    "print(\"The words with each its highest probability\",highestProb)"
   ]
  },
  {
   "cell_type": "code",
   "execution_count": 11,
   "metadata": {},
   "outputs": [
    {
     "name": "stdout",
     "output_type": "stream",
     "text": [
      "TAG TRANSITION LIST {'start': {'propn': 0.07304526748971193, 'det': 0.030864197530864196, 'noun': 0.11522633744855967, 'adp': 0.12757201646090535, 'sconj': 0.01748971193415638, 'pron': 0.040123456790123455, 'adv': 0.03189300411522634, 'part': 0.00205761316872428, 'verb': 0.0102880658436214, 'cconj': 0.00823045267489712, 'punct': 0.01440329218106996, 'adj': 0.013374485596707819, 'num': 0.00411522633744856}, 'propn': {'aux': 0.012646793134598013, 'propn': 0.20776874435411022, 'punct': 0.2999096657633243, 'pron': 0.044263775971093045, 'cconj': 0.028003613369467027, 'adp': 0.06955736224028906, 'verb': 0.02710027100271003, 'noun': 0.04155374887082204, 'adv': 0.01084010840108401, 'det': 0.018970189701897018, 'adj': 0.01987353206865402, 'num': 0.014453477868112014, 'sym': 0.0018066847335140017, 'sconj': 0.0018066847335140017, 'start': 0.0018066847335140017, 'part': 1}, 'aux': {'det': 0.18023255813953487, 'num': 0.011627906976744186, 'noun': 0.18023255813953487, 'propn': 0.05232558139534884, 'adj': 0.03488372093023256, 'punct': 0.05813953488372093, 'adv': 0.011627906976744186}, 'det': {'noun': 0.14847161572052403, 'verb': 0.06404657933042213, 'cconj': 0.008733624454148471, 'adv': 0.06259097525473072, 'adj': 0.024745269286754003, 'propn': 0.049490538573508006, 'num': 0.053857350800582245, 'det': 0.06259097525473072, 'punct': 0.09170305676855896, 'sconj': 0.005822416302765648, 'adp': 0.043668122270742356, 'aux': 0.026200873362445413, 'pron': 0.03056768558951965, 'part': 0.005822416302765648}, 'noun': {'pron': 0.05559189012426422, 'propn': 0.08175277959450622, 'noun': 0.12688031393067364, 'adv': 0.013734466971877043, 'cconj': 0.017004578155657292, 'sconj': 0.005232177894048398, 'punct': 0.1366906474820144, 'det': 0.06801831262262917, 'num': 0.020928711576193592, 'adj': 0.03597122302158273, 'adp': 0.08109875735775017, 'verb': 0.025506867233485938, 'aux': 0.006540222367560497, 'sym': 0.0013080444735120995, 'part': 0.0013080444735120995, 'start': 0.0013080444735120995}, 'pron': {'verb': 0.1554959785522788, 'adv': 0.12064343163538874, 'part': 0.0388739946380697, 'adj': 0.022788203753351208, 'num': 0.00804289544235925, 'noun': 0.01876675603217158, 'adp': 0.02546916890080429, 'pron': 0.010723860589812333, 'punct': 0.01876675603217158, 'propn': 0.004021447721179625, 'aux': 0.005361930294906166, 'det': 0.01742627345844504, 'cconj': 0.005361930294906166}, 'verb': {'adp': 0.2182410423452769, 'det': 0.09609120521172639, 'noun': 0.1498371335504886, 'num': 0.029315960912052116, 'aux': 0.006514657980456026, 'verb': 0.03257328990228013, 'sconj': 0.003257328990228013, 'punct': 0.05211726384364821, 'adj': 0.030944625407166124, 'propn': 0.029315960912052116, 'adv': 0.02280130293159609, 'pron': 0.003257328990228013, 'cconj': 0.003257328990228013}, 'adp': {'propn': 0.07867036011080332, 'noun': 0.19335180055401663, 'verb': 0.014404432132963989, 'adp': 0.0260387811634349, 'adv': 0.00443213296398892, 'det': 0.03102493074792244, 'num': 0.018836565096952907, 'adj': 0.009972299168975069, 'punct': 0.013850415512465374, 'pron': 0.009972299168975069, 'cconj': 0.00110803324099723, 'aux': 0.00110803324099723}, 'punct': {'propn': 0.0582425068119891, 'start': 0.30279291553133514, 'cconj': 0.04938692098092643, 'num': 0.012602179836512262, 'sconj': 0.010217983651226158, 'adp': 0.02997275204359673, 'noun': 0.042915531335149866, 'punct': 0.08514986376021798, 'verb': 0.009536784741144414, 'pron': 0.02963215258855586, 'aux': 0.009536784741144414, 'adv': 0.008174386920980926, 'det': 0.01430517711171662, 'part': 0.0020435967302452314, 'adj': 0.0013623978201634877}, 'adv': {'verb': 0.18811881188118812, 'adv': 0.07920792079207921, 'pron': 0.01782178217821782, 'adp': 0.06534653465346535, 'adj': 0.027722772277227723, 'det': 0.02178217821782178, 'punct': 0.03564356435643564, 'propn': 0.011881188118811881, 'noun': 0.0297029702970297}, 'cconj': {'adp': 0.03333333333333333, 'verb': 0.021052631578947368, 'propn': 0.042105263157894736, 'num': 0.014035087719298246, 'noun': 0.07719298245614035, 'adj': 0.021052631578947368, 'punct': 0.017543859649122806, 'adv': 0.03859649122807018, 'det': 0.02456140350877193, 'aux': 0.0035087719298245615, 'part': 0.012280701754385965, 'cconj': 0.0035087719298245615, 'pron': 0.010526315789473684}, 'sconj': {'pron': 0.11926605504587157, 'verb': 0.05504587155963303, 'noun': 0.11926605504587157, 'adp': 0.05504587155963303, 'propn': 0.07339449541284404, 'punct': 0.03669724770642202, 'det': 0.05504587155963303, 'adv': 0.01834862385321101, 'part': 0.01834862385321101}, 'num': {'adp': 0.08438818565400844, 'noun': 0.2109704641350211, 'cconj': 0.03375527426160337, 'punct': 0.20253164556962025, 'propn': 0.05063291139240506, 'aux': 0.03375527426160337, 'sym': 0.016877637130801686, 'num': 0.008438818565400843, 'det': 0.02531645569620253, 'pron': 0.03375527426160337, 'adv': 1}, 'adj': {'punct': 0.24742268041237114, 'noun': 0.05154639175257732, 'adp': 0.12714776632302405, 'num': 0.10652920962199312, 'det': 0.12714776632302405, 'adv': 0.027491408934707903, 'part': 0.006872852233676976, 'verb': 0.020618556701030927, 'adj': 0.013745704467353952, 'cconj': 0.05154639175257732, 'pron': 0.03436426116838488, 'aux': 0.024054982817869417, 'propn': 0.020618556701030927}, 'part': {'verb': 0.25316455696202533, 'adv': 0.10126582278481013, 'adj': 0.02531645569620253, 'adp': 0.02531645569620253, 'pron': 1}, 'sym': {'noun': 0.08, 'propn': 0.16, 'punct': 0.08, 'cconj': 0.08, 'pron': 0.08, 'num': 1}}\n"
     ]
    }
   ],
   "source": [
    "print('TAG TRANSITION LIST',transTab)"
   ]
  },
  {
   "cell_type": "code",
   "execution_count": 23,
   "metadata": {},
   "outputs": [
    {
     "name": "stdout",
     "output_type": "stream",
     "text": [
      "Result of data Test-> s.t.r desa saya terletak di kecamatan buahbatu. = (1.6838519051309026e-15, '%')\nResult of data Test-> s.t.r dia kehabisa pasukan untuk makan. = (3.97472767801989e-12, '%')\n"
     ]
    }
   ],
   "source": [
    "print('Result of data Test->',d1,'=',vite)\n",
    "print('Result of data Test->',d2,'=',vite2)"
   ]
  },
  {
   "cell_type": "code",
   "execution_count": null,
   "metadata": {},
   "outputs": [],
   "source": []
  }
 ],
 "metadata": {
  "kernelspec": {
   "display_name": "Python 2",
   "language": "python",
   "name": "python2"
  },
  "language_info": {
   "codemirror_mode": {
    "name": "ipython",
    "version": 2
   },
   "file_extension": ".py",
   "mimetype": "text/x-python",
   "name": "python",
   "nbconvert_exporter": "python",
   "pygments_lexer": "ipython2",
   "version": "2.7.6"
  }
 },
 "nbformat": 4,
 "nbformat_minor": 0
}
